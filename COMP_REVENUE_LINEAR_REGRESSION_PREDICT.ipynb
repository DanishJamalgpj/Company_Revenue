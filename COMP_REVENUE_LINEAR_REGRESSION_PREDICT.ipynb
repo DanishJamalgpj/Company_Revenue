{
 "cells": [
  {
   "cell_type": "code",
   "execution_count": 1,
   "id": "285b921c",
   "metadata": {},
   "outputs": [],
   "source": [
    "##**lINEAR REGRESSION MODEL TRAINING USING LINEAR REGRESSION METHOD##\n",
    "\n",
    "## There is two variable one independent and second dependent \n",
    "## In Linear Regression model x is independent variable and y is dependent variable"
   ]
  },
  {
   "cell_type": "code",
   "execution_count": 2,
   "id": "962b8f4c",
   "metadata": {},
   "outputs": [],
   "source": [
    "import pandas as pd\n",
    "from sklearn.linear_model import LinearRegression"
   ]
  },
  {
   "cell_type": "code",
   "execution_count": 3,
   "id": "51a75c9c",
   "metadata": {},
   "outputs": [],
   "source": [
    "data = pd.read_csv('REVENUE.csv')"
   ]
  },
  {
   "cell_type": "code",
   "execution_count": 4,
   "id": "baa4f72b",
   "metadata": {},
   "outputs": [
    {
     "data": {
      "text/html": [
       "<div>\n",
       "<style scoped>\n",
       "    .dataframe tbody tr th:only-of-type {\n",
       "        vertical-align: middle;\n",
       "    }\n",
       "\n",
       "    .dataframe tbody tr th {\n",
       "        vertical-align: top;\n",
       "    }\n",
       "\n",
       "    .dataframe thead th {\n",
       "        text-align: right;\n",
       "    }\n",
       "</style>\n",
       "<table border=\"1\" class=\"dataframe\">\n",
       "  <thead>\n",
       "    <tr style=\"text-align: right;\">\n",
       "      <th></th>\n",
       "      <th>SR.NO</th>\n",
       "      <th>TRANSPORTATION</th>\n",
       "      <th>STATIONARY</th>\n",
       "      <th>PACKAGING</th>\n",
       "      <th>REVENUE</th>\n",
       "    </tr>\n",
       "  </thead>\n",
       "  <tbody>\n",
       "    <tr>\n",
       "      <th>0</th>\n",
       "      <td>1</td>\n",
       "      <td>10000</td>\n",
       "      <td>1000</td>\n",
       "      <td>2000</td>\n",
       "      <td>5000</td>\n",
       "    </tr>\n",
       "    <tr>\n",
       "      <th>1</th>\n",
       "      <td>2</td>\n",
       "      <td>15000</td>\n",
       "      <td>2000</td>\n",
       "      <td>3000</td>\n",
       "      <td>8000</td>\n",
       "    </tr>\n",
       "    <tr>\n",
       "      <th>2</th>\n",
       "      <td>3</td>\n",
       "      <td>20000</td>\n",
       "      <td>3000</td>\n",
       "      <td>4000</td>\n",
       "      <td>12000</td>\n",
       "    </tr>\n",
       "    <tr>\n",
       "      <th>3</th>\n",
       "      <td>4</td>\n",
       "      <td>25000</td>\n",
       "      <td>4000</td>\n",
       "      <td>5000</td>\n",
       "      <td>15000</td>\n",
       "    </tr>\n",
       "    <tr>\n",
       "      <th>4</th>\n",
       "      <td>5</td>\n",
       "      <td>30000</td>\n",
       "      <td>5000</td>\n",
       "      <td>6000</td>\n",
       "      <td>18000</td>\n",
       "    </tr>\n",
       "    <tr>\n",
       "      <th>5</th>\n",
       "      <td>6</td>\n",
       "      <td>35000</td>\n",
       "      <td>6000</td>\n",
       "      <td>7000</td>\n",
       "      <td>32000</td>\n",
       "    </tr>\n",
       "    <tr>\n",
       "      <th>6</th>\n",
       "      <td>7</td>\n",
       "      <td>40000</td>\n",
       "      <td>7000</td>\n",
       "      <td>8000</td>\n",
       "      <td>35000</td>\n",
       "    </tr>\n",
       "    <tr>\n",
       "      <th>7</th>\n",
       "      <td>8</td>\n",
       "      <td>45000</td>\n",
       "      <td>8000</td>\n",
       "      <td>9000</td>\n",
       "      <td>40000</td>\n",
       "    </tr>\n",
       "    <tr>\n",
       "      <th>8</th>\n",
       "      <td>9</td>\n",
       "      <td>50000</td>\n",
       "      <td>9000</td>\n",
       "      <td>10000</td>\n",
       "      <td>45000</td>\n",
       "    </tr>\n",
       "    <tr>\n",
       "      <th>9</th>\n",
       "      <td>10</td>\n",
       "      <td>55000</td>\n",
       "      <td>10000</td>\n",
       "      <td>11000</td>\n",
       "      <td>55000</td>\n",
       "    </tr>\n",
       "  </tbody>\n",
       "</table>\n",
       "</div>"
      ],
      "text/plain": [
       "   SR.NO  TRANSPORTATION  STATIONARY  PACKAGING  REVENUE\n",
       "0      1           10000        1000       2000     5000\n",
       "1      2           15000        2000       3000     8000\n",
       "2      3           20000        3000       4000    12000\n",
       "3      4           25000        4000       5000    15000\n",
       "4      5           30000        5000       6000    18000\n",
       "5      6           35000        6000       7000    32000\n",
       "6      7           40000        7000       8000    35000\n",
       "7      8           45000        8000       9000    40000\n",
       "8      9           50000        9000      10000    45000\n",
       "9     10           55000       10000      11000    55000"
      ]
     },
     "execution_count": 4,
     "metadata": {},
     "output_type": "execute_result"
    }
   ],
   "source": [
    "'''this is multiline regression data where 'TRANSPORTATION\tSTATIONARY\tPACKAGING' is x1,x2,x3 variable and\n",
    "##REVENUE is y variable >> x1,x2,x3 is independent variable and y is dependent variable '''\n",
    "data   "
   ]
  },
  {
   "cell_type": "code",
   "execution_count": 5,
   "id": "a6b398fa",
   "metadata": {},
   "outputs": [],
   "source": [
    "model = LinearRegression()     ##TO MAKE OBJECT OF linearRegression model which import throu from sklearn.linear_model import LinearRegression"
   ]
  },
  {
   "cell_type": "code",
   "execution_count": 6,
   "id": "d54ba713",
   "metadata": {},
   "outputs": [
    {
     "data": {
      "text/html": [
       "<style>#sk-container-id-1 {color: black;background-color: white;}#sk-container-id-1 pre{padding: 0;}#sk-container-id-1 div.sk-toggleable {background-color: white;}#sk-container-id-1 label.sk-toggleable__label {cursor: pointer;display: block;width: 100%;margin-bottom: 0;padding: 0.3em;box-sizing: border-box;text-align: center;}#sk-container-id-1 label.sk-toggleable__label-arrow:before {content: \"▸\";float: left;margin-right: 0.25em;color: #696969;}#sk-container-id-1 label.sk-toggleable__label-arrow:hover:before {color: black;}#sk-container-id-1 div.sk-estimator:hover label.sk-toggleable__label-arrow:before {color: black;}#sk-container-id-1 div.sk-toggleable__content {max-height: 0;max-width: 0;overflow: hidden;text-align: left;background-color: #f0f8ff;}#sk-container-id-1 div.sk-toggleable__content pre {margin: 0.2em;color: black;border-radius: 0.25em;background-color: #f0f8ff;}#sk-container-id-1 input.sk-toggleable__control:checked~div.sk-toggleable__content {max-height: 200px;max-width: 100%;overflow: auto;}#sk-container-id-1 input.sk-toggleable__control:checked~label.sk-toggleable__label-arrow:before {content: \"▾\";}#sk-container-id-1 div.sk-estimator input.sk-toggleable__control:checked~label.sk-toggleable__label {background-color: #d4ebff;}#sk-container-id-1 div.sk-label input.sk-toggleable__control:checked~label.sk-toggleable__label {background-color: #d4ebff;}#sk-container-id-1 input.sk-hidden--visually {border: 0;clip: rect(1px 1px 1px 1px);clip: rect(1px, 1px, 1px, 1px);height: 1px;margin: -1px;overflow: hidden;padding: 0;position: absolute;width: 1px;}#sk-container-id-1 div.sk-estimator {font-family: monospace;background-color: #f0f8ff;border: 1px dotted black;border-radius: 0.25em;box-sizing: border-box;margin-bottom: 0.5em;}#sk-container-id-1 div.sk-estimator:hover {background-color: #d4ebff;}#sk-container-id-1 div.sk-parallel-item::after {content: \"\";width: 100%;border-bottom: 1px solid gray;flex-grow: 1;}#sk-container-id-1 div.sk-label:hover label.sk-toggleable__label {background-color: #d4ebff;}#sk-container-id-1 div.sk-serial::before {content: \"\";position: absolute;border-left: 1px solid gray;box-sizing: border-box;top: 0;bottom: 0;left: 50%;z-index: 0;}#sk-container-id-1 div.sk-serial {display: flex;flex-direction: column;align-items: center;background-color: white;padding-right: 0.2em;padding-left: 0.2em;position: relative;}#sk-container-id-1 div.sk-item {position: relative;z-index: 1;}#sk-container-id-1 div.sk-parallel {display: flex;align-items: stretch;justify-content: center;background-color: white;position: relative;}#sk-container-id-1 div.sk-item::before, #sk-container-id-1 div.sk-parallel-item::before {content: \"\";position: absolute;border-left: 1px solid gray;box-sizing: border-box;top: 0;bottom: 0;left: 50%;z-index: -1;}#sk-container-id-1 div.sk-parallel-item {display: flex;flex-direction: column;z-index: 1;position: relative;background-color: white;}#sk-container-id-1 div.sk-parallel-item:first-child::after {align-self: flex-end;width: 50%;}#sk-container-id-1 div.sk-parallel-item:last-child::after {align-self: flex-start;width: 50%;}#sk-container-id-1 div.sk-parallel-item:only-child::after {width: 0;}#sk-container-id-1 div.sk-dashed-wrapped {border: 1px dashed gray;margin: 0 0.4em 0.5em 0.4em;box-sizing: border-box;padding-bottom: 0.4em;background-color: white;}#sk-container-id-1 div.sk-label label {font-family: monospace;font-weight: bold;display: inline-block;line-height: 1.2em;}#sk-container-id-1 div.sk-label-container {text-align: center;}#sk-container-id-1 div.sk-container {/* jupyter's `normalize.less` sets `[hidden] { display: none; }` but bootstrap.min.css set `[hidden] { display: none !important; }` so we also need the `!important` here to be able to override the default hidden behavior on the sphinx rendered scikit-learn.org. See: https://github.com/scikit-learn/scikit-learn/issues/21755 */display: inline-block !important;position: relative;}#sk-container-id-1 div.sk-text-repr-fallback {display: none;}</style><div id=\"sk-container-id-1\" class=\"sk-top-container\"><div class=\"sk-text-repr-fallback\"><pre>LinearRegression()</pre><b>In a Jupyter environment, please rerun this cell to show the HTML representation or trust the notebook. <br />On GitHub, the HTML representation is unable to render, please try loading this page with nbviewer.org.</b></div><div class=\"sk-container\" hidden><div class=\"sk-item\"><div class=\"sk-estimator sk-toggleable\"><input class=\"sk-toggleable__control sk-hidden--visually\" id=\"sk-estimator-id-1\" type=\"checkbox\" checked><label for=\"sk-estimator-id-1\" class=\"sk-toggleable__label sk-toggleable__label-arrow\">LinearRegression</label><div class=\"sk-toggleable__content\"><pre>LinearRegression()</pre></div></div></div></div></div>"
      ],
      "text/plain": [
       "LinearRegression()"
      ]
     },
     "execution_count": 6,
     "metadata": {},
     "output_type": "execute_result"
    }
   ],
   "source": [
    "## for making model for predict the data means training the model using .fit method  first aurg is x and second y\n",
    "\n",
    "model.fit(data[['TRANSPORTATION','STATIONARY','PACKAGING']],data['REVENUE']) "
   ]
  },
  {
   "cell_type": "code",
   "execution_count": 7,
   "id": "ff5ff04e",
   "metadata": {},
   "outputs": [
    {
     "name": "stderr",
     "output_type": "stream",
     "text": [
      "C:\\Users\\Dell\\AppData\\Roaming\\Python\\Python310\\site-packages\\sklearn\\base.py:450: UserWarning: X does not have valid feature names, but LinearRegression was fitted with feature names\n",
      "  warnings.warn(\n"
     ]
    },
    {
     "data": {
      "text/plain": [
       "array([57266.66666667])"
      ]
     },
     "execution_count": 7,
     "metadata": {},
     "output_type": "execute_result"
    }
   ],
   "source": [
    "## using .predict for prediction of our model. using three value x1,x2,x3 \n",
    "\n",
    "model.predict([[60000,11000,12000]]) "
   ]
  },
  {
   "cell_type": "code",
   "execution_count": 8,
   "id": "1ae1386a",
   "metadata": {},
   "outputs": [
    {
     "data": {
      "text/plain": [
       "0.9710750537156405"
      ]
     },
     "execution_count": 8,
     "metadata": {},
     "output_type": "execute_result"
    }
   ],
   "source": [
    "## now getting the score of our model. how much trained our model...\n",
    "\n",
    "model.score(data[['TRANSPORTATION','STATIONARY','PACKAGING']],data['REVENUE']) "
   ]
  },
  {
   "cell_type": "code",
   "execution_count": 9,
   "id": "5c21804c",
   "metadata": {},
   "outputs": [
    {
     "data": {
      "text/plain": [
       "array([1.0359147 , 0.20718294, 0.20718294])"
      ]
     },
     "execution_count": 9,
     "metadata": {},
     "output_type": "execute_result"
    }
   ],
   "source": [
    "## cheaking the coaficient of m1,m2,m3\n",
    "model.coef_"
   ]
  },
  {
   "cell_type": "code",
   "execution_count": 10,
   "id": "29b6a61f",
   "metadata": {},
   "outputs": [
    {
     "data": {
      "text/plain": [
       "-9653.42312008977"
      ]
     },
     "execution_count": 10,
     "metadata": {},
     "output_type": "execute_result"
    }
   ],
   "source": [
    "##cheaking the intercept (b)\n",
    "model.intercept_"
   ]
  },
  {
   "cell_type": "code",
   "execution_count": 11,
   "id": "1d7410aa",
   "metadata": {},
   "outputs": [],
   "source": [
    "##Cheaking Y with the equation : Y = m1*x1 + m2*X2 + m3*X3 + b\n",
    "\n",
    "Y = 1.0359147*60000 + 0.20718294*11000 + 0.20718294*12000 + -9653.42312008977"
   ]
  },
  {
   "cell_type": "code",
   "execution_count": 12,
   "id": "abaf4db4",
   "metadata": {},
   "outputs": [
    {
     "data": {
      "text/plain": [
       "57266.66649991023"
      ]
     },
     "execution_count": 12,
     "metadata": {},
     "output_type": "execute_result"
    }
   ],
   "source": [
    "Y"
   ]
  },
  {
   "cell_type": "code",
   "execution_count": null,
   "id": "675f15fd",
   "metadata": {},
   "outputs": [],
   "source": []
  },
  {
   "cell_type": "code",
   "execution_count": 13,
   "id": "16097074",
   "metadata": {},
   "outputs": [],
   "source": [
    "y=1.0359147*10000 + 0.20718294*1000 + 0.20718294*2000 + -9653.42312008977"
   ]
  },
  {
   "cell_type": "code",
   "execution_count": 14,
   "id": "b49e9718",
   "metadata": {},
   "outputs": [
    {
     "data": {
      "text/plain": [
       "1327.2726999102288"
      ]
     },
     "execution_count": 14,
     "metadata": {},
     "output_type": "execute_result"
    }
   ],
   "source": [
    "y"
   ]
  },
  {
   "cell_type": "code",
   "execution_count": 15,
   "id": "f2706cca",
   "metadata": {},
   "outputs": [
    {
     "name": "stderr",
     "output_type": "stream",
     "text": [
      "C:\\Users\\Dell\\AppData\\Roaming\\Python\\Python310\\site-packages\\sklearn\\base.py:450: UserWarning: X does not have valid feature names, but LinearRegression was fitted with feature names\n",
      "  warnings.warn(\n"
     ]
    },
    {
     "data": {
      "text/plain": [
       "array([1327.27272727])"
      ]
     },
     "execution_count": 15,
     "metadata": {},
     "output_type": "execute_result"
    }
   ],
   "source": [
    "model.predict([[10000,1000,2000]])"
   ]
  },
  {
   "cell_type": "code",
   "execution_count": 16,
   "id": "20cee69e",
   "metadata": {},
   "outputs": [
    {
     "data": {
      "text/html": [
       "<div>\n",
       "<style scoped>\n",
       "    .dataframe tbody tr th:only-of-type {\n",
       "        vertical-align: middle;\n",
       "    }\n",
       "\n",
       "    .dataframe tbody tr th {\n",
       "        vertical-align: top;\n",
       "    }\n",
       "\n",
       "    .dataframe thead th {\n",
       "        text-align: right;\n",
       "    }\n",
       "</style>\n",
       "<table border=\"1\" class=\"dataframe\">\n",
       "  <thead>\n",
       "    <tr style=\"text-align: right;\">\n",
       "      <th></th>\n",
       "      <th>SR.NO</th>\n",
       "      <th>TRANSPORTATION</th>\n",
       "      <th>STATIONARY</th>\n",
       "      <th>PACKAGING</th>\n",
       "      <th>REVENUE</th>\n",
       "    </tr>\n",
       "  </thead>\n",
       "  <tbody>\n",
       "    <tr>\n",
       "      <th>0</th>\n",
       "      <td>1</td>\n",
       "      <td>10000</td>\n",
       "      <td>1000</td>\n",
       "      <td>2000</td>\n",
       "      <td>5000</td>\n",
       "    </tr>\n",
       "    <tr>\n",
       "      <th>1</th>\n",
       "      <td>2</td>\n",
       "      <td>15000</td>\n",
       "      <td>2000</td>\n",
       "      <td>3000</td>\n",
       "      <td>8000</td>\n",
       "    </tr>\n",
       "    <tr>\n",
       "      <th>2</th>\n",
       "      <td>3</td>\n",
       "      <td>20000</td>\n",
       "      <td>3000</td>\n",
       "      <td>4000</td>\n",
       "      <td>12000</td>\n",
       "    </tr>\n",
       "  </tbody>\n",
       "</table>\n",
       "</div>"
      ],
      "text/plain": [
       "   SR.NO  TRANSPORTATION  STATIONARY  PACKAGING  REVENUE\n",
       "0      1           10000        1000       2000     5000\n",
       "1      2           15000        2000       3000     8000\n",
       "2      3           20000        3000       4000    12000"
      ]
     },
     "execution_count": 16,
     "metadata": {},
     "output_type": "execute_result"
    }
   ],
   "source": [
    "data.head(3)"
   ]
  },
  {
   "cell_type": "code",
   "execution_count": 17,
   "id": "98ce6d40",
   "metadata": {},
   "outputs": [],
   "source": [
    "import matplotlib.pyplot as plt"
   ]
  },
  {
   "cell_type": "code",
   "execution_count": 28,
   "id": "737337a2",
   "metadata": {},
   "outputs": [
    {
     "data": {
      "image/png": "[encoded data removed]",
      "text/plain": [
       "<Figure size 432x288 with 1 Axes>"
      ]
     },
     "metadata": {
      "needs_background": "light"
     },
     "output_type": "display_data"
    }
   ],
   "source": [
    "plt.hist(data['REVENUE'],color='g',bins=4)\n",
    "plt.xlabel('Revenue YearWise',color='r')\n",
    "plt.show()"
   ]
  },
  {
   "cell_type": "code",
   "execution_count": 31,
   "id": "005f961f",
   "metadata": {},
   "outputs": [
    {
     "data": {
      "text/html": [
       "<div>\n",
       "<style scoped>\n",
       "    .dataframe tbody tr th:only-of-type {\n",
       "        vertical-align: middle;\n",
       "    }\n",
       "\n",
       "    .dataframe tbody tr th {\n",
       "        vertical-align: top;\n",
       "    }\n",
       "\n",
       "    .dataframe thead th {\n",
       "        text-align: right;\n",
       "    }\n",
       "</style>\n",
       "<table border=\"1\" class=\"dataframe\">\n",
       "  <thead>\n",
       "    <tr style=\"text-align: right;\">\n",
       "      <th></th>\n",
       "      <th>SR.NO</th>\n",
       "      <th>TRANSPORTATION</th>\n",
       "      <th>STATIONARY</th>\n",
       "      <th>PACKAGING</th>\n",
       "      <th>REVENUE</th>\n",
       "    </tr>\n",
       "  </thead>\n",
       "  <tbody>\n",
       "    <tr>\n",
       "      <th>0</th>\n",
       "      <td>1</td>\n",
       "      <td>10000</td>\n",
       "      <td>1000</td>\n",
       "      <td>2000</td>\n",
       "      <td>5000</td>\n",
       "    </tr>\n",
       "    <tr>\n",
       "      <th>1</th>\n",
       "      <td>2</td>\n",
       "      <td>15000</td>\n",
       "      <td>2000</td>\n",
       "      <td>3000</td>\n",
       "      <td>8000</td>\n",
       "    </tr>\n",
       "    <tr>\n",
       "      <th>2</th>\n",
       "      <td>3</td>\n",
       "      <td>20000</td>\n",
       "      <td>3000</td>\n",
       "      <td>4000</td>\n",
       "      <td>12000</td>\n",
       "    </tr>\n",
       "  </tbody>\n",
       "</table>\n",
       "</div>"
      ],
      "text/plain": [
       "   SR.NO  TRANSPORTATION  STATIONARY  PACKAGING  REVENUE\n",
       "0      1           10000        1000       2000     5000\n",
       "1      2           15000        2000       3000     8000\n",
       "2      3           20000        3000       4000    12000"
      ]
     },
     "execution_count": 31,
     "metadata": {},
     "output_type": "execute_result"
    }
   ],
   "source": [
    "data.head(3)"
   ]
  },
  {
   "cell_type": "code",
   "execution_count": 53,
   "id": "eef4e7e6",
   "metadata": {},
   "outputs": [],
   "source": [
    "## Assining Independent data and dependent data in seperate variable for scatter plot \n",
    "ind_data1 = data['TRANSPORTATION']\n",
    "ind_data2 = data['STATIONARY']\n",
    "ind_data3 = data['REVENUE']"
   ]
  },
  {
   "cell_type": "code",
   "execution_count": 47,
   "id": "78cfec35",
   "metadata": {},
   "outputs": [
    {
     "data": {
      "text/plain": [
       "0     5000\n",
       "1     8000\n",
       "2    12000\n",
       "3    15000\n",
       "4    18000\n",
       "5    32000\n",
       "6    35000\n",
       "7    40000\n",
       "8    45000\n",
       "9    55000\n",
       "Name: REVENUE, dtype: int64"
      ]
     },
     "execution_count": 47,
     "metadata": {},
     "output_type": "execute_result"
    }
   ],
   "source": [
    "depen_data = data['REVENUE']\n",
    "depen_data"
   ]
  },
  {
   "cell_type": "code",
   "execution_count": 92,
   "id": "ccbec2c2",
   "metadata": {},
   "outputs": [
    {
     "data": {
      "image/png": "[encoded data removed]",
      "text/plain": [
       "<Figure size 576x576 with 7 Axes>"
      ]
     },
     "metadata": {
      "needs_background": "light"
     },
     "output_type": "display_data"
    }
   ],
   "source": [
    "### Scatter plot with subplot for cost of different variable against revenue\n",
    "\n",
    "%matplotlib inline\n",
    "fig, axes = plt.subplots(nrows=4, ncols=4, figsize=(8, 8))\n",
    "fig.tight_layout()\n",
    "plt.title('Revenue and Cost different plot')\n",
    "plt.subplot(2,2,1)\n",
    "plt.scatter(ind_data1,depen_data,color='red',marker='*',linewidth=3)\n",
    "plt.title('Transporation Cost against Revenue')\n",
    "plt.xlabel('Transporation')\n",
    "plt.ylabel('Revenue')\n",
    "plt.grid(True)\n",
    "\n",
    "plt.subplot(2,2,2)\n",
    "plt.scatter(ind_data2,depen_data,color='green',marker='.',linewidth=4)\n",
    "plt.title('Stationary Cost against Revenue')\n",
    "plt.xlabel('Stationary Cost')\n",
    "plt.ylabel('Revenue')\n",
    "plt.grid(True)\n",
    "#plt.subplots_adjust(left=0.1,\n",
    "                    #bottom=0.1, \n",
    "                    #right=0.9, \n",
    "                    #top=0.9, \n",
    "                    #wspace=0.4, \n",
    "                    #hspace=0.4)\n",
    "\n",
    "plt.subplot(2,2,3)\n",
    "plt.scatter(ind_data3,depen_data,color='blue',marker='>',linewidth=5)\n",
    "plt.title('Packaging Cost against Revenue')\n",
    "plt.xlabel('Packaging Cost')\n",
    "plt.ylabel('Revenue')\n",
    "plt.grid(True)\n",
    "plt.show()"
   ]
  },
  {
   "cell_type": "code",
   "execution_count": 94,
   "id": "7c5ff14d",
   "metadata": {},
   "outputs": [
    {
     "name": "stderr",
     "output_type": "stream",
     "text": [
      "C:\\Users\\Dell\\AppData\\Roaming\\Python\\Python310\\site-packages\\sklearn\\base.py:450: UserWarning: X does not have valid feature names, but LinearRegression was fitted with feature names\n",
      "  warnings.warn(\n"
     ]
    },
    {
     "data": {
      "text/plain": [
       "array([34062.17732884])"
      ]
     },
     "execution_count": 94,
     "metadata": {},
     "output_type": "execute_result"
    }
   ],
   "source": [
    "model.predict([[40000,5000,6000]])"
   ]
  },
  {
   "cell_type": "code",
   "execution_count": 95,
   "id": "66a07801",
   "metadata": {},
   "outputs": [
    {
     "data": {
      "text/plain": [
       "array([1.0359147 , 0.20718294, 0.20718294])"
      ]
     },
     "execution_count": 95,
     "metadata": {},
     "output_type": "execute_result"
    }
   ],
   "source": [
    "model.coef_"
   ]
  },
  {
   "cell_type": "code",
   "execution_count": 96,
   "id": "0366b209",
   "metadata": {},
   "outputs": [
    {
     "data": {
      "text/plain": [
       "-9653.42312008977"
      ]
     },
     "execution_count": 96,
     "metadata": {},
     "output_type": "execute_result"
    }
   ],
   "source": [
    "model.intercept_"
   ]
  },
  {
   "cell_type": "code",
   "execution_count": 97,
   "id": "ac4f926a",
   "metadata": {},
   "outputs": [
    {
     "data": {
      "text/plain": [
       "34062.17721991023"
      ]
     },
     "execution_count": 97,
     "metadata": {},
     "output_type": "execute_result"
    }
   ],
   "source": [
    "## Using Equation method Y = m1*x1+m2*x2+m3*x3+b // In this using (-b) because intercept value is in minus (-) so -+ = -\n",
    "\n",
    "1.0359147*40000 + 0.20718294*5000 + 0.20718294*6000 - 9653.42312008977"
   ]
  },
  {
   "cell_type": "code",
   "execution_count": 100,
   "id": "acd364fa",
   "metadata": {},
   "outputs": [
    {
     "data": {
      "text/plain": [
       "0.9710750537156405"
      ]
     },
     "execution_count": 100,
     "metadata": {},
     "output_type": "execute_result"
    }
   ],
   "source": [
    "model.score(data[['TRANSPORTATION','STATIONARY','PACKAGING']],data['REVENUE'])"
   ]
  },
  {
   "cell_type": "code",
   "execution_count": null,
   "id": "b2e3194d",
   "metadata": {},
   "outputs": [],
   "source": []
  }
 ],
 "metadata": {
  "kernelspec": {
   "display_name": "Python 3 (ipykernel)",
   "language": "python",
   "name": "python3"
  },
  "language_info": {
   "codemirror_mode": {
    "name": "ipython",
    "version": 3
   },
   "file_extension": ".py",
   "mimetype": "text/x-python",
   "name": "python",
   "nbconvert_exporter": "python",
   "pygments_lexer": "ipython3",
   "version": "3.10.6"
  }
 },
 "nbformat": 4,
 "nbformat_minor": 5
}
